{
 "cells": [
  {
   "cell_type": "code",
   "execution_count": 1,
   "metadata": {
    "collapsed": true
   },
   "outputs": [],
   "source": [
    "import pandas as pd\n",
    "import numpy as np"
   ]
  },
  {
   "cell_type": "code",
   "execution_count": 2,
   "outputs": [],
   "source": [
    "data = pd.read_csv('./data/exo2_2_0_1.csv', sep=' ')"
   ],
   "metadata": {
    "collapsed": false
   }
  },
  {
   "cell_type": "code",
   "execution_count": 3,
   "outputs": [],
   "source": [
    "data = data.to_numpy()"
   ],
   "metadata": {
    "collapsed": false
   }
  },
  {
   "cell_type": "code",
   "execution_count": 20,
   "outputs": [],
   "source": [
    "#Minimisation\n",
    "\n",
    "\n",
    "def is_dominated(x, y) -> bool:\n",
    "    \"\"\"\n",
    "    Détermine si la solution x est dominée par la solution y\n",
    "    :param x:\n",
    "    :param y:\n",
    "    :return:\n",
    "    \"\"\"\n",
    "    solution_dominate = True\n",
    "    for col in range(len(x)):\n",
    "        if y[col] > x[col]:\n",
    "            solution_dominate = False\n",
    "\n",
    "    return solution_dominate\n",
    "\n",
    "\n",
    "def non_dominated_solutions(solution_set: np.ndarray):\n",
    "    result = []\n",
    "    for i in range(len(solution_set)):\n",
    "\n",
    "        current_solution = solution_set[i]\n",
    "        dominated = False\n",
    "        for y in range(len(solution_set)):\n",
    "            if i != y and is_dominated(current_solution, solution_set[y]) == True:\n",
    "                dominated = True\n",
    "                break\n",
    "\n",
    "        if not dominated:\n",
    "            result.append(solution_set[i])\n",
    "\n",
    "    return np.array(result)\n"
   ],
   "metadata": {
    "collapsed": false
   }
  },
  {
   "cell_type": "code",
   "execution_count": 21,
   "outputs": [],
   "source": [
    "res = non_dominated_solutions(data)"
   ],
   "metadata": {
    "collapsed": false
   }
  },
  {
   "cell_type": "code",
   "execution_count": 22,
   "outputs": [
    {
     "name": "stdout",
     "output_type": "stream",
     "text": [
      "8\n",
      "[[-2.23131764 -1.40441042]\n",
      " [-1.21935595 -3.03458507]\n",
      " [-2.42473996 -0.82793321]\n",
      " [-1.99170816 -2.1602374 ]\n",
      " [-1.55690429 -2.36313614]\n",
      " [-2.60231946  0.6448089 ]\n",
      " [-1.33816404 -2.37334026]\n",
      " [-1.80355166 -2.33563505]]\n"
     ]
    }
   ],
   "source": [
    "print(len(res))\n",
    "print(res)"
   ],
   "metadata": {
    "collapsed": false
   }
  },
  {
   "cell_type": "code",
   "execution_count": 27,
   "outputs": [],
   "source": [
    "import matplotlib.pyplot as plt\n",
    "\n",
    "\n",
    "def plot_2d(data, pareto_front):\n",
    "    data_x = data[:, 0]\n",
    "    data_y = data[:, 1]\n",
    "    plt.scatter(data_x, data_y)\n",
    "    pareto_front_x = pareto_front[:, 0]\n",
    "    pareto_front_y = pareto_front[:, 1]\n",
    "    plt.scatter(pareto_front_x, pareto_front_y)\n",
    "    plt.show()\n"
   ],
   "metadata": {
    "collapsed": false
   }
  },
  {
   "cell_type": "code",
   "execution_count": 44,
   "outputs": [
    {
     "name": "stdout",
     "output_type": "stream",
     "text": [
      "Dimension = 2 Corrélation = -0.8  =  19.533333333333335\n",
      "Dimension = 2 Corrélation = -0.2  =  7.933333333333334\n",
      "Dimension = 2 Corrélation = 0  =  6.966666666666667\n",
      "Dimension = 2 Corrélation = 0.8  =  2.433333333333333\n",
      "Dimension = 3 Corrélation = -0.2  =  41.0\n",
      "Dimension = 3 Corrélation = 0  =  23.8\n",
      "Dimension = 3 Corrélation = 0.8  =  4.733333333333333\n",
      "Dimension = 4 Corrélation = -0.2  =  139.06666666666666\n",
      "Dimension = 4 Corrélation = 0  =  60.166666666666664\n",
      "Dimension = 4 Corrélation = 0.8  =  5.366666666666666\n",
      "Dimension = 5 Corrélation = -0.2  =  344.1333333333333\n",
      "Dimension = 5 Corrélation = 0  =  110.8\n",
      "Dimension = 5 Corrélation = 0.8  =  8.066666666666666\n"
     ]
    }
   ],
   "source": [
    "d = [2, 3, 4, 5]\n",
    "ro = [-0.8, -0.2, 0, 0.8]\n",
    "\n",
    "for dx in d:\n",
    "    for rox in ro:\n",
    "        calc = (-1 / (dx - 1))\n",
    "        if rox > calc:\n",
    "            sum = 0\n",
    "            for i in range(1, 31):\n",
    "                tmp = pd.read_csv('./data/exo2_' + str(dx) + '_' + str(rox) + '_' + str(i) + '.csv', sep=' ')\n",
    "                tmp = tmp.to_numpy()\n",
    "                res = non_dominated_solutions(tmp)\n",
    "                sum += len(res)\n",
    "            print('Dimension =', dx, 'Corrélation =', rox, ' = ', (sum / 30))"
   ],
   "metadata": {
    "collapsed": false
   }
  },
  {
   "cell_type": "code",
   "execution_count": 292,
   "outputs": [],
   "source": [],
   "metadata": {
    "collapsed": false
   }
  }
 ],
 "metadata": {
  "kernelspec": {
   "display_name": "Python 3",
   "language": "python",
   "name": "python3"
  },
  "language_info": {
   "codemirror_mode": {
    "name": "ipython",
    "version": 2
   },
   "file_extension": ".py",
   "mimetype": "text/x-python",
   "name": "python",
   "nbconvert_exporter": "python",
   "pygments_lexer": "ipython2",
   "version": "2.7.6"
  }
 },
 "nbformat": 4,
 "nbformat_minor": 0
}
